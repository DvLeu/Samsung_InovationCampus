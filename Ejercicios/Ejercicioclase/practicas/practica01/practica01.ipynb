{
 "cells": [
  {
   "cell_type": "code",
   "execution_count": null,
   "metadata": {},
   "outputs": [],
   "source": []
  },
  {
   "cell_type": "markdown",
   "metadata": {},
   "source": []
  },
  {
   "cell_type": "code",
   "execution_count": null,
   "metadata": {},
   "outputs": [],
   "source": [
    "# Importa StratifiedKFold para asegurar que cada fold tenga la misma proporción de clases.\n",
    "from sklearn.model_selection import StratifiedKFold\n",
    "\n",
    "# Configura StratifiedKFold con 10 particiones y mezcla aleatoria.\n",
    "cv = StratifiedKFold(n_splits=10, shuffle=True, random_state=42)\n",
    "\n",
    "# Calcula las puntuaciones de validación cruzada estratificada.\n",
    "results = cross_val_score(model, X_train, y_train, cv=cv)\n",
    "\n",
    "# Calcula el promedio de las puntuaciones obtenidas.\n",
    "fin_result = np.mean(results)\n",
    "\n",
    "# Imprime las puntuaciones para cada fold y su índice.\n",
    "for i, score in enumerate(results):\n",
    "    suffix = \"th\" if 10 <= i % 100 <= 20 else (\"st\" if i % 10 == 1 else (\"nd\" if i % 10 == 2 else (\"rd\" if i % 10 == 3 else \"th\")))\n",
    "    print(f'{i}{suffix} puntuación de validación cruzada : {score:.1f}')\n",
    "\n",
    "# Imprime el promedio final de validación cruzada estratificada.\n",
    "print(f'Puntuación final de validación cruzada estratificada : {fin_result}')"
   ]
  }
 ],
 "metadata": {
  "kernelspec": {
   "display_name": "Python 3",
   "language": "python",
   "name": "python3"
  },
  "language_info": {
   "name": "python",
   "version": "3.12.6"
  }
 },
 "nbformat": 4,
 "nbformat_minor": 2
}
