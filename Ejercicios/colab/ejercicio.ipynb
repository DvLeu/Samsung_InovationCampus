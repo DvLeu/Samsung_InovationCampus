{
 "cells": [
  {
   "cell_type": "code",
   "execution_count": 225,
   "metadata": {},
   "outputs": [],
   "source": [
    "import numpy as np \n",
    "import pandas as pd\n",
    "import scipy.stats as stats\n",
    "import matplotlib.pyplot as plt\n",
    "import openpyxl\n"
   ]
  },
  {
   "cell_type": "code",
   "execution_count": 226,
   "metadata": {},
   "outputs": [
    {
     "data": {
      "text/plain": [
       "array([50.99342831, 49.7234714 , 51.29537708, ..., 48.58936655,\n",
       "       50.99153115, 51.28877691])"
      ]
     },
     "execution_count": 226,
     "metadata": {},
     "output_type": "execute_result"
    }
   ],
   "source": [
    "# 1 simulacion de datos\n",
    "np.random.seed(42)\n",
    "n_components = 10000\n",
    "mean_weight = 50\n",
    "std_weight = 2\n",
    "weights = np.random.normal(mean_weight, std_weight, n_components)\n",
    "weights"
   ]
  },
  {
   "cell_type": "code",
   "execution_count": 227,
   "metadata": {},
   "outputs": [
    {
     "name": "stdout",
     "output_type": "stream",
     "text": [
      "El peso maximo es 57.85\n",
      "El peso minimo es 42.16\n"
     ]
    }
   ],
   "source": [
    "max_weights = np.max(weights)\n",
    "min_weights = np.min(weights)\n",
    "print(f\"El peso maximo es {max_weights:.2f}\")\n",
    "print(f\"El peso minimo es {min_weights:.2f}\")"
   ]
  },
  {
   "cell_type": "code",
   "execution_count": 228,
   "metadata": {},
   "outputs": [
    {
     "data": {
      "text/html": [
       "<div>\n",
       "<style scoped>\n",
       "    .dataframe tbody tr th:only-of-type {\n",
       "        vertical-align: middle;\n",
       "    }\n",
       "\n",
       "    .dataframe tbody tr th {\n",
       "        vertical-align: top;\n",
       "    }\n",
       "\n",
       "    .dataframe thead th {\n",
       "        text-align: right;\n",
       "    }\n",
       "</style>\n",
       "<table border=\"1\" class=\"dataframe\">\n",
       "  <thead>\n",
       "    <tr style=\"text-align: right;\">\n",
       "      <th></th>\n",
       "      <th>weight</th>\n",
       "      <th>Defect</th>\n",
       "    </tr>\n",
       "  </thead>\n",
       "  <tbody>\n",
       "    <tr>\n",
       "      <th>0</th>\n",
       "      <td>50.993428</td>\n",
       "      <td>0</td>\n",
       "    </tr>\n",
       "    <tr>\n",
       "      <th>1</th>\n",
       "      <td>49.723471</td>\n",
       "      <td>0</td>\n",
       "    </tr>\n",
       "    <tr>\n",
       "      <th>2</th>\n",
       "      <td>51.295377</td>\n",
       "      <td>0</td>\n",
       "    </tr>\n",
       "    <tr>\n",
       "      <th>3</th>\n",
       "      <td>53.046060</td>\n",
       "      <td>0</td>\n",
       "    </tr>\n",
       "    <tr>\n",
       "      <th>4</th>\n",
       "      <td>49.531693</td>\n",
       "      <td>0</td>\n",
       "    </tr>\n",
       "    <tr>\n",
       "      <th>...</th>\n",
       "      <td>...</td>\n",
       "      <td>...</td>\n",
       "    </tr>\n",
       "    <tr>\n",
       "      <th>9995</th>\n",
       "      <td>52.602204</td>\n",
       "      <td>0</td>\n",
       "    </tr>\n",
       "    <tr>\n",
       "      <th>9996</th>\n",
       "      <td>46.003310</td>\n",
       "      <td>0</td>\n",
       "    </tr>\n",
       "    <tr>\n",
       "      <th>9997</th>\n",
       "      <td>48.589367</td>\n",
       "      <td>0</td>\n",
       "    </tr>\n",
       "    <tr>\n",
       "      <th>9998</th>\n",
       "      <td>50.991531</td>\n",
       "      <td>0</td>\n",
       "    </tr>\n",
       "    <tr>\n",
       "      <th>9999</th>\n",
       "      <td>51.288777</td>\n",
       "      <td>0</td>\n",
       "    </tr>\n",
       "  </tbody>\n",
       "</table>\n",
       "<p>10000 rows × 2 columns</p>\n",
       "</div>"
      ],
      "text/plain": [
       "         weight  Defect\n",
       "0     50.993428       0\n",
       "1     49.723471       0\n",
       "2     51.295377       0\n",
       "3     53.046060       0\n",
       "4     49.531693       0\n",
       "...         ...     ...\n",
       "9995  52.602204       0\n",
       "9996  46.003310       0\n",
       "9997  48.589367       0\n",
       "9998  50.991531       0\n",
       "9999  51.288777       0\n",
       "\n",
       "[10000 rows x 2 columns]"
      ]
     },
     "execution_count": 228,
     "metadata": {},
     "output_type": "execute_result"
    }
   ],
   "source": [
    "defect_probability = 0.02\n",
    "defects = np.random.choice([0, 1], size = n_components, p=[1 - defect_probability, defect_probability])\n",
    "\n",
    "data = pd.DataFrame({'weight': weights, 'Defect': defects})\n",
    "data"
   ]
  },
  {
   "cell_type": "code",
   "execution_count": 229,
   "metadata": {},
   "outputs": [
    {
     "name": "stdout",
     "output_type": "stream",
     "text": [
      "Cantidad de componentes sin defecto (0): 9774\n",
      "Cantidad de componentes con defecto (1): 226\n",
      "Porcentaje de componentes sin defecto: 97.74%\n",
      "Porcentaje de componentes con defecto: 2.26%\n"
     ]
    }
   ],
   "source": [
    "# contar defectos\n",
    "count_zero = (data['Defect'] == 0).sum()  \n",
    "count_one = (data['Defect'] == 1).sum()  \n",
    "\n",
    "n_components = len(data)  \n",
    "\n",
    "percentage_zero = (count_zero / n_components) * 100\n",
    "percentage_one = (count_one / n_components) * 100\n",
    "\n",
    "print(f\"Cantidad de componentes sin defecto (0): {count_zero}\")\n",
    "print(f\"Cantidad de componentes con defecto (1): {count_one}\")\n",
    "print(f\"Porcentaje de componentes sin defecto: {percentage_zero:.2f}%\")\n",
    "print(f\"Porcentaje de componentes con defecto: {percentage_one:.2f}%\")\n"
   ]
  },
  {
   "cell_type": "code",
   "execution_count": 230,
   "metadata": {},
   "outputs": [
    {
     "name": "stdout",
     "output_type": "stream",
     "text": [
      "Estadisticas descriptivas \n",
      "             weight        Defect\n",
      "count  10000.000000  10000.000000\n",
      "mean      49.995728      0.022600\n",
      "std        2.006925      0.148632\n",
      "min       42.155199      0.000000\n",
      "25%       48.654819      0.000000\n",
      "50%       49.994810      0.000000\n",
      "75%       51.342162      0.000000\n",
      "max       57.852475      1.000000\n"
     ]
    }
   ],
   "source": [
    "print(f\"Estadisticas descriptivas \")\n",
    "print(data.describe())"
   ]
  },
  {
   "cell_type": "code",
   "execution_count": 231,
   "metadata": {},
   "outputs": [
    {
     "data": {
      "image/png": "[encoded data removed]",
      "text/plain": [
       "<Figure size 640x480 with 1 Axes>"
      ]
     },
     "metadata": {},
     "output_type": "display_data"
    }
   ],
   "source": [
    "n, bins, patches = plt.hist(data['weight'], bins=90, edgecolor='black')\n",
    "colors = ['#FF6F61', '#6B5B95', '#88B04B', '#F7CAC9', '#92A8D1']  \n",
    "for i, patch in enumerate(patches):\n",
    "    patch.set_facecolor(colors[i % len(colors)])\n",
    "\n",
    "plt.xlabel('Peso')\n",
    "plt.ylabel('Frecuencia')\n",
    "plt.title('Distribución de pesos')\n",
    "plt.show()"
   ]
  },
  {
   "cell_type": "code",
   "execution_count": 232,
   "metadata": {},
   "outputs": [
    {
     "name": "stdout",
     "output_type": "stream",
     "text": [
      "Los datos se han guardado correctamente en final.xlsx\n"
     ]
    }
   ],
   "source": [
    "weights_df = pd.DataFrame(weights, columns=['Weights'])\n",
    "defects_df = pd.DataFrame(weights, columns=['Defect'])\n",
    "sample2 = np.array([np.random.choice(weights, size=30, replace=False) for _ in range(1000)])\n",
    "\n",
    "combined_samples = sample2.flatten()\n",
    "combined_samples_df = pd.DataFrame(combined_samples, columns=[\"30 MIL Samples\"])\n",
    "\n",
    "final_df = pd.concat([weights_df, defects_df, combined_samples_df], axis=1)\n",
    "\n",
    "final_df.to_excel('final.xlsx', index=False)\n",
    "\n",
    "print(f\"Los datos se han guardado correctamente en final.xlsx\")"
   ]
  },
  {
   "cell_type": "code",
   "execution_count": 233,
   "metadata": {},
   "outputs": [
    {
     "name": "stdout",
     "output_type": "stream",
     "text": [
      "            Weights        Defect  30 MIL Samples\n",
      "count  10000.000000  10000.000000    30000.000000\n",
      "mean      49.995728     49.995728       50.002318\n",
      "std        2.006925      2.006925        2.006237\n",
      "min       42.155199     42.155199       42.155199\n",
      "25%       48.654819     48.654819       48.654189\n",
      "50%       49.994810     49.994810       50.006106\n",
      "75%       51.342162     51.342162       51.363323\n",
      "max       57.852475     57.852475       57.852475\n"
     ]
    }
   ],
   "source": [
    "print(f\"{final_df.describe()}\")"
   ]
  },
  {
   "cell_type": "code",
   "execution_count": 234,
   "metadata": {},
   "outputs": [
    {
     "name": "stdout",
     "output_type": "stream",
     "text": [
      "                  count       mean       std        min        25%        50%  \\\n",
      "Weights         10000.0  49.995728  2.006925  42.155199  48.654819  49.994810   \n",
      "Defect          10000.0  49.995728  2.006925  42.155199  48.654819  49.994810   \n",
      "30 MIL Samples  30000.0  50.002318  2.006237  42.155199  48.654189  50.006106   \n",
      "\n",
      "                      75%        max      skew  kurtosis  variance  unique  \n",
      "Weights         51.342162  57.852475  0.001964  0.027093  4.027747   10000  \n",
      "Defect          51.342162  57.852475  0.001964  0.027093  4.027747   10000  \n",
      "30 MIL Samples  51.363323  57.852475 -0.003285  0.020088  4.024985    9479  \n"
     ]
    }
   ],
   "source": [
    "def full_stats(df):\n",
    "    return df.describe().T.assign(\n",
    "        skew=df.skew(),\n",
    "        kurtosis=df.kurtosis(),\n",
    "        variance=df.var(),\n",
    "        unique=df.nunique(),  # Cambiar unique() por nunique()\n",
    "    )\n",
    "\n",
    "print(full_stats(final_df))\n"
   ]
  },
  {
   "cell_type": "code",
   "execution_count": 235,
   "metadata": {},
   "outputs": [
    {
     "data": {
      "image/png": "[encoded data removed]",
      "text/plain": [
       "<Figure size 640x480 with 1 Axes>"
      ]
     },
     "metadata": {},
     "output_type": "display_data"
    }
   ],
   "source": [
    "n, bins, patches = plt.hist(data['Defect'], bins=50, edgecolor='black')\n",
    "colors = ['#FF6F61', '#6B5B95', '#88B04B', '#F7CAC9', '#92A8D1']  \n",
    "for i, patch in enumerate(patches):\n",
    "    patch.set_facecolor(colors[i % len(colors)])\n",
    "\n",
    "plt.xlabel('Peso')\n",
    "plt.ylabel('Frecuencia')\n",
    "plt.title('Distribución de pesos')\n",
    "plt.show()"
   ]
  },
  {
   "cell_type": "code",
   "execution_count": 236,
   "metadata": {},
   "outputs": [],
   "source": [
    "sample = [np.mean(np.random.choice(weights, size=30, replace=False)) for i in range(1000)]\n",
    "\n",
    "sample_means = [np.mean(sample3) for sample3 in sample]"
   ]
  },
  {
   "cell_type": "code",
   "execution_count": 237,
   "metadata": {},
   "outputs": [
    {
     "data": {
      "image/png": "[encoded data removed]",
      "text/plain": [
       "<Figure size 640x480 with 1 Axes>"
      ]
     },
     "metadata": {},
     "output_type": "display_data"
    }
   ],
   "source": [
    "plt.hist(sample_means, bins=50, color='red', edgecolor='black')\n",
    "plt.title('Distribucion de las medias muestrales TLC')\n",
    "plt.xlabel('Media Muestral')\n",
    "plt.ylabel('Frecuencia')\n",
    "plt.show()"
   ]
  },
  {
   "cell_type": "code",
   "execution_count": 238,
   "metadata": {},
   "outputs": [
    {
     "name": "stdout",
     "output_type": "stream",
     "text": [
      "Las 1000 columnas de 30 datos han sido guardadas en 'samples_1000x30.xlsx\n"
     ]
    }
   ],
   "source": [
    "df_sample2 = pd.DataFrame(sample2)\n",
    "\n",
    "df_sample2.to_excel('samples_1000x30.xlsx', index=False, header=False)\n",
    "\n",
    "print(f\"Las 1000 columnas de 30 datos han sido guardadas en 'samples_1000x30.xlsx\")"
   ]
  },
  {
   "cell_type": "code",
   "execution_count": 239,
   "metadata": {},
   "outputs": [
    {
     "name": "stdout",
     "output_type": "stream",
     "text": [
      "Las 1000 columnas de 30 datos han sido guardadas en 'samples_1000x30means.xlsx\n"
     ]
    }
   ],
   "source": [
    "df_sample5 = pd.DataFrame(sample_means)\n",
    "\n",
    "df_sample5.to_excel('samples_1000x30means.xlsx',index=False, header=False)\n",
    "\n",
    "print(f\"Las 1000 columnas de 30 datos han sido guardadas en 'samples_1000x30means.xlsx\")"
   ]
  },
  {
   "cell_type": "code",
   "execution_count": 240,
   "metadata": {},
   "outputs": [],
   "source": [
    "confidence_level = 0.95\n",
    "sample = np.random.choice(weights, size=30, replace=False)\n",
    "sample_mean = np.mean(sample)\n",
    "sample_std = np.std(sample, ddof=1)\n"
   ]
  },
  {
   "cell_type": "code",
   "execution_count": 241,
   "metadata": {},
   "outputs": [
    {
     "name": "stdout",
     "output_type": "stream",
     "text": [
      "Media muestral : 49.41, Intervalo de confianza al 95% : [48.66, 50.15]\n"
     ]
    }
   ],
   "source": [
    "margin_of_error = stats.t.ppf((1 + confidence_level) / 2, df=len(sample) - 1) * (sample_std / np.sqrt(len(sample)))\n",
    "print(f\"Media muestral : {sample_mean:.2f}, Intervalo de confianza al 95% : [{sample_mean - margin_of_error:.2f}, {sample_mean + margin_of_error:.2f}]\")\n"
   ]
  },
  {
   "cell_type": "code",
   "execution_count": 242,
   "metadata": {},
   "outputs": [
    {
     "ename": "NameError",
     "evalue": "name 'std_dev_weight' is not defined",
     "output_type": "error",
     "traceback": [
      "\u001b[1;31m---------------------------------------------------------------------------\u001b[0m",
      "\u001b[1;31mNameError\u001b[0m                                 Traceback (most recent call last)",
      "Cell \u001b[1;32mIn[242], line 1\u001b[0m\n\u001b[1;32m----> 1\u001b[0m prob_x_greater_52 \u001b[38;5;241m=\u001b[39m \u001b[38;5;241m1\u001b[39m \u001b[38;5;241m-\u001b[39m stats\u001b[38;5;241m.\u001b[39mnorm\u001b[38;5;241m.\u001b[39mcdf(\u001b[38;5;241m52\u001b[39m, loc\u001b[38;5;241m=\u001b[39mmean_weight, scale\u001b[38;5;241m=\u001b[39m\u001b[43mstd_dev_weight\u001b[49m)\n\u001b[0;32m      2\u001b[0m \u001b[38;5;28mprint\u001b[39m(\u001b[38;5;124mf\u001b[39m\u001b[38;5;124m\"\u001b[39m\u001b[38;5;124mProbabilidad de que un componente pese más de 52 g: \u001b[39m\u001b[38;5;132;01m{\u001b[39;00mprob_x_greater_52\u001b[38;5;132;01m:\u001b[39;00m\u001b[38;5;124m.4f\u001b[39m\u001b[38;5;132;01m}\u001b[39;00m\u001b[38;5;124m\"\u001b[39m)\n",
      "\u001b[1;31mNameError\u001b[0m: name 'std_dev_weight' is not defined"
     ]
    }
   ],
   "source": [
    "prob_x_greater_52 = 1 - stats.norm.cdf(52, loc=mean_weight, scale=std_dev_weight)\n",
    "print(f\"Probabilidad de que un componente pese más de 52 g: {prob_x_greater_52:.4f}\")\n"
   ]
  },
  {
   "cell_type": "code",
   "execution_count": null,
   "metadata": {},
   "outputs": [],
   "source": []
  }
 ],
 "metadata": {
  "kernelspec": {
   "display_name": "Python 3",
   "language": "python",
   "name": "python3"
  },
  "language_info": {
   "codemirror_mode": {
    "name": "ipython",
    "version": 3
   },
   "file_extension": ".py",
   "mimetype": "text/x-python",
   "name": "python",
   "nbconvert_exporter": "python",
   "pygments_lexer": "ipython3",
   "version": "3.12.6"
  }
 },
 "nbformat": 4,
 "nbformat_minor": 2
}
