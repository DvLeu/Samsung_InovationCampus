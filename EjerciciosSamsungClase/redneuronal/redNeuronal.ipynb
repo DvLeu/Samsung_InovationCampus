{
 "cells": [
  {
   "cell_type": "code",
   "execution_count": 86,
   "metadata": {},
   "outputs": [],
   "source": [
    "import pandas as pd\n",
    "import numpy as np\n",
    "import warnings\n",
    "import matplotlib.pyplot as plt\n",
    "\n",
    "from sklearn.model_selection import train_test_split\n",
    "\n",
    "from tensorflow.keras.datasets.reuters import load_data, get_word_index\n",
    "from tensorflow.keras.models import Sequential\n",
    "from tensorflow.keras.layers import Dense, SimpleRNN, LSTM, Embedding\n",
    "from tensorflow.keras.utils import to_categorical\n",
    "\n",
    "from tensorflow.keras.preprocessing import sequence\n",
    "\n",
    "from tensorflow.keras.optimizers import Adam, RMSprop, SGD\n",
    "\n",
    "warnings.filterwarnings('ignore')\n",
    "\n",
    "%matplotlib inline\n",
    "\n"
   ]
  },
  {
   "cell_type": "code",
   "execution_count": 87,
   "metadata": {},
   "outputs": [
    {
     "name": "stdout",
     "output_type": "stream",
     "text": [
      "Texto original del primer documento : \n",
      "ASIAN EXPORTERS FEAR DAMAGE FROM U.S.-JAPAN RIFT\n",
      "  Mounting trade friction between the\n",
      "  U.S. And Japan has raised fears among many of Asia's exporting\n",
      "  nations that the row could inflict far-reaching economic\n",
      "  damage, businessmen and officials said.\n",
      "      They told Reuter correspondents in Asian capitals a U.S.\n",
      "  Move against Japan might boost protectionist sentiment in the\n",
      "  U.S. And lead to curbs on American imports of their products.\n",
      "      But some exporters said that while the conflict would hurt\n",
      "  them in the long-run, in the short-term Tokyo's loss might be\n",
      "  their gain.\n",
      "      The U.S. Has said it will impose 300 mln dlrs of tariffs on\n",
      "  imports of Japanese electronics goods on April 17, in\n",
      "  retaliation for Japan's alleged failure to stick to a pact not\n",
      "  to sell semiconductors on world markets at below cost.\n",
      "      Unofficial Japanese estimates put the impact of the tariffs\n",
      "  at 10 billion dlrs and spokesmen for major electronics firms\n",
      "  said they would virtually halt exports of products hit by the\n",
      "  new taxes.\n",
      "      \"We wouldn't be able to do business,\" said a spokesman for\n",
      "  leading Japanese electronics firm Matsushita Electric\n",
      "  Industrial Co Ltd &lt;MC.T>.\n",
      "      \"If the tariffs remain in place for any length of time\n",
      "  beyond a few months it will mean the complete erosion of\n",
      "  exports (of goods subject to tariffs) to the U.S.,\" said Tom\n",
      "  Murtha, a stock analyst at the Tokyo office of broker &lt;James\n",
      "  Capel and Co>.\n",
      "      In Taiwan, businessmen and officials are also worried.\n",
      "      \"We are aware of the seriousness of the U.S. Threat against\n",
      "  Japan because it serves as a warning to us,\" said a senior\n",
      "  Taiwanese trade official who asked not to be named.\n",
      "      Taiwan had a trade trade surplus of 15.6 billion dlrs last\n",
      "  year, 95 pct of it with the U.S.\n",
      "      The surplus helped swell Taiwan's foreign exchange reserves\n",
      "  to 53 billion dlrs, among the world's largest.\n",
      "      \"We must quickly open our markets, remove trade barriers and\n",
      "  cut import tariffs to allow imports of U.S. Products, if we\n",
      "  want to defuse problems from possible U.S. Retaliation,\" said\n",
      "  Paul Sheen, chairman of textile exporters &lt;Taiwan Safe Group>.\n",
      "      A senior official of South Korea's trade promotion\n",
      "  association said the trade dispute between the U.S. And Japan\n",
      "  might also lead to pressure on South Korea, whose chief exports\n",
      "  are similar to those of Japan.\n",
      "      Last year South Korea had a trade surplus of 7.1 billion\n",
      "  dlrs with the U.S., Up from 4.9 billion dlrs in 1985.\n",
      "      In Malaysia, trade officers and businessmen said tough\n",
      "  curbs against Japan might allow hard-hit producers of\n",
      "  semiconductors in third countries to expand their sales to the\n",
      "  U.S.\n",
      "      In Hong Kong, where newspapers have alleged Japan has been\n",
      "  selling below-cost semiconductors, some electronics\n",
      "  manufacturers share that view. But other businessmen said such\n",
      "  a short-term commercial advantage would be outweighed by\n",
      "  further U.S. Pressure to block imports.\n",
      "      \"That is a very short-term view,\" said Lawrence Mills,\n",
      "  director-general of the Federation of Hong Kong Industry.\n",
      "      \"If the whole purpose is to prevent imports, one day it will\n",
      "  be extended to other sources. Much more serious for Hong Kong\n",
      "  is the disadvantage of action restraining trade,\" he said.\n",
      "      The U.S. Last year was Hong Kong's biggest export market,\n",
      "  accounting for over 30 pct of domestically produced exports.\n",
      "      The Australian government is awaiting the outcome of trade\n",
      "  talks between the U.S. And Japan with interest and concern,\n",
      "  Industry Minister John Button said in Canberra last Friday.\n",
      "      \"This kind of deterioration in trade relations between two\n",
      "  countries which are major trading partners of ours is a very\n",
      "  serious matter,\" Button said.\n",
      "      He said Australia's concerns centred on coal and beef,\n",
      "  Australia's two largest exports to Japan and also significant\n",
      "  U.S. Exports to that country.\n",
      "      Meanwhile U.S.-Japanese diplomatic manoeuvres to solve the\n",
      "  trade stand-off continue.\n",
      "      Japan's ruling Liberal Democratic Party yesterday outlined\n",
      "  a package of economic measures to boost the Japanese economy.\n",
      "      The measures proposed include a large supplementary budget\n",
      "  and record public works spending in the first half of the\n",
      "  financial year.\n",
      "      They also call for stepped-up spending as an emergency\n",
      "  measure to stimulate the economy despite Prime Minister\n",
      "  Yasuhiro Nakasone's avowed fiscal reform program.\n",
      "      Deputy U.S. Trade Representative Michael Smith and Makoto\n",
      "  Kuroda, Japan's deputy minister of International Trade and\n",
      "  Industry (MITI), are due to meet in Washington this week in an\n",
      "  effort to end the dispute.\n",
      "  \n",
      "\n",
      "\n"
     ]
    },
    {
     "name": "stderr",
     "output_type": "stream",
     "text": [
      "[nltk_data] Downloading package reuters to\n",
      "[nltk_data]     C:\\Users\\chapu\\AppData\\Roaming\\nltk_data...\n",
      "[nltk_data]   Package reuters is already up-to-date!\n",
      "[nltk_data] Downloading package punkt to\n",
      "[nltk_data]     C:\\Users\\chapu\\AppData\\Roaming\\nltk_data...\n",
      "[nltk_data]   Package punkt is already up-to-date!\n"
     ]
    }
   ],
   "source": [
    "import nltk \n",
    "nltk.download('reuters')\n",
    "nltk.download('punkt')\n",
    "\n",
    "from nltk.corpus import reuters\n",
    "\n",
    "documentos = reuters.fileids()\n",
    "\n",
    "texto_original = reuters.raw(documentos[0])\n",
    "print(\"Texto original del primer documento : \")\n",
    "print(texto_original)"
   ]
  },
  {
   "cell_type": "code",
   "execution_count": 88,
   "metadata": {},
   "outputs": [
    {
     "name": "stdout",
     "output_type": "stream",
     "text": [
      "Ejemplo de una noticia en formato de indices: \n"
     ]
    },
    {
     "data": {
      "text/plain": [
       "['test/14826',\n",
       " 'test/14828',\n",
       " 'test/14829',\n",
       " 'test/14832',\n",
       " 'test/14833',\n",
       " 'test/14839',\n",
       " 'test/14840',\n",
       " 'test/14841',\n",
       " 'test/14842',\n",
       " 'test/14843',\n",
       " 'test/14844',\n",
       " 'test/14849',\n",
       " 'test/14852',\n",
       " 'test/14854',\n",
       " 'test/14858',\n",
       " 'test/14859',\n",
       " 'test/14860',\n",
       " 'test/14861',\n",
       " 'test/14862',\n",
       " 'test/14863',\n",
       " 'test/14865',\n",
       " 'test/14867',\n",
       " 'test/14872',\n",
       " 'test/14873',\n",
       " 'test/14875',\n",
       " 'test/14876',\n",
       " 'test/14877',\n",
       " 'test/14881',\n",
       " 'test/14882',\n",
       " 'test/14885',\n",
       " 'test/14886',\n",
       " 'test/14888',\n",
       " 'test/14890',\n",
       " 'test/14891',\n",
       " 'test/14892',\n",
       " 'test/14899',\n",
       " 'test/14900',\n",
       " 'test/14903',\n",
       " 'test/14904',\n",
       " 'test/14907',\n",
       " 'test/14909',\n",
       " 'test/14911',\n",
       " 'test/14912',\n",
       " 'test/14913',\n",
       " 'test/14918',\n",
       " 'test/14919',\n",
       " 'test/14921',\n",
       " 'test/14922',\n",
       " 'test/14923',\n",
       " 'test/14926',\n",
       " 'test/14928',\n",
       " 'test/14930',\n",
       " 'test/14931',\n",
       " 'test/14932',\n",
       " 'test/14933',\n",
       " 'test/14934',\n",
       " 'test/14941',\n",
       " 'test/14943',\n",
       " 'test/14949',\n",
       " 'test/14951',\n",
       " 'test/14954',\n",
       " 'test/14957',\n",
       " 'test/14958',\n",
       " 'test/14959',\n",
       " 'test/14960',\n",
       " 'test/14962',\n",
       " 'test/14963',\n",
       " 'test/14964',\n",
       " 'test/14965',\n",
       " 'test/14967',\n",
       " 'test/14968',\n",
       " 'test/14969',\n",
       " 'test/14970',\n",
       " 'test/14971',\n",
       " 'test/14974',\n",
       " 'test/14975',\n",
       " 'test/14978',\n",
       " 'test/14981',\n",
       " 'test/14982',\n",
       " 'test/14983',\n",
       " 'test/14984',\n",
       " 'test/14985',\n",
       " 'test/14986',\n",
       " 'test/14987',\n",
       " 'test/14988',\n",
       " 'test/14993',\n",
       " 'test/14995',\n",
       " 'test/14998',\n",
       " 'test/15000',\n",
       " 'test/15001',\n",
       " 'test/15002',\n",
       " 'test/15004',\n",
       " 'test/15005',\n",
       " 'test/15006',\n",
       " 'test/15011',\n",
       " 'test/15012',\n",
       " 'test/15013',\n",
       " 'test/15016',\n",
       " 'test/15017',\n",
       " 'test/15020']"
      ]
     },
     "execution_count": 88,
     "metadata": {},
     "output_type": "execute_result"
    }
   ],
   "source": [
    "print(\"Ejemplo de una noticia en formato de indices: \")\n",
    "documentos[0:100]"
   ]
  },
  {
   "cell_type": "code",
   "execution_count": 89,
   "metadata": {},
   "outputs": [
    {
     "name": "stdout",
     "output_type": "stream",
     "text": [
      "--------------------------------------------------\n",
      "Training data X shape : (7859,)\n",
      "Training data Y shape : (7859,)\n",
      "--------------------------------------------------\n",
      "Testing data X shape : (3369,)\n",
      "Testing data Y shape : (3369,)\n",
      "--------------------------------------------------\n"
     ]
    },
    {
     "data": {
      "text/plain": [
       "7859"
      ]
     },
     "execution_count": 89,
     "metadata": {},
     "output_type": "execute_result"
    }
   ],
   "source": [
    "n_words = 10000\n",
    "\n",
    "(X_train, y_train), (X_test, y_test) = load_data(num_words = n_words, test_split=0.3)\n",
    "\n",
    "n_train_size = X_train.shape[0]\n",
    "\n",
    "#? Impresion \n",
    "\n",
    "print(\"-\" * 50)\n",
    "print(\"Training data X shape : {}\" .format(X_train.shape))\n",
    "print(\"Training data Y shape : {}\" .format(y_train.shape))\n",
    "print(\"-\" * 50)\n",
    "print(\"Testing data X shape : {}\" .format(X_test.shape))\n",
    "print(\"Testing data Y shape : {}\" .format(y_test.shape))\n",
    "print(\"-\" * 50)\n",
    "\n",
    "n_train_size"
   ]
  },
  {
   "cell_type": "code",
   "execution_count": 90,
   "metadata": {},
   "outputs": [
    {
     "name": "stdout",
     "output_type": "stream",
     "text": [
      "Ejemplo de una noticia en formato de indice : \n",
      "[1, 2, 2, 8, 43, 10, 447, 5, 25, 207, 270, 5, 3095, 111, 16, 369, 186, 90, 67, 7, 89, 5, 19, 102, 6, 19, 124, 15, 90, 67, 84, 22, 482, 26, 7, 48, 4, 49, 8, 864, 39, 209, 154, 6, 151, 6, 83, 11, 15, 22, 155, 11, 15, 7, 48, 9, 4579, 1005, 504, 6, 258, 6, 272, 11, 15, 22, 134, 44, 11, 15, 16, 8, 197, 1245, 90, 67, 52, 29, 209, 30, 32, 132, 6, 109, 15, 17, 12]\n"
     ]
    }
   ],
   "source": [
    "print(\"Ejemplo de una noticia en formato de indice : \")\n",
    "print(X_train[0])"
   ]
  },
  {
   "cell_type": "code",
   "execution_count": 91,
   "metadata": {},
   "outputs": [
    {
     "name": "stdout",
     "output_type": "stream",
     "text": [
      "said\n"
     ]
    }
   ],
   "source": [
    "my_dict = get_word_index()\n",
    "my_dict_inv = {v: k for k, v in my_dict.items()}\n",
    "print(my_dict_inv.get(5, \"No existe en el diccionario\"))"
   ]
  },
  {
   "cell_type": "code",
   "execution_count": 92,
   "metadata": {},
   "outputs": [
    {
     "data": {
      "text/plain": [
       "46"
      ]
     },
     "execution_count": 92,
     "metadata": {},
     "output_type": "execute_result"
    }
   ],
   "source": [
    "n_cat = pd.Series(y_train).nunique()\n",
    "n_cat"
   ]
  },
  {
   "cell_type": "code",
   "execution_count": 93,
   "metadata": {},
   "outputs": [
    {
     "name": "stdout",
     "output_type": "stream",
     "text": [
      "[1, 2, 2, 8, 43, 10, 447, 5, 25, 207, 270, 5, 3095, 111, 16, 369, 186, 90, 67, 7, 89, 5, 19, 102, 6, 19, 124, 15, 90, 67, 84, 22, 482, 26, 7, 48, 4, 49, 8, 864, 39, 209, 154, 6, 151, 6, 83, 11, 15, 22, 155, 11, 15, 7, 48, 9, 4579, 1005, 504, 6, 258, 6, 272, 11, 15, 22, 134, 44, 11, 15, 16, 8, 197, 1245, 90, 67, 52, 29, 209, 30, 32, 132, 6, 109, 15, 17, 12]\n"
     ]
    }
   ],
   "source": [
    "print(X_train[0])"
   ]
  },
  {
   "cell_type": "code",
   "execution_count": 94,
   "metadata": {},
   "outputs": [
    {
     "name": "stdout",
     "output_type": "stream",
     "text": [
      "[87, 56, 139, 224, 101, 116, 100, 100, 82, 106, 31, 59, 65, 316, 527, 76, 114, 17, 91, 77, 231, 108, 83, 29, 95, 110, 23, 373, 114, 354, 133, 222, 571, 155, 83, 208, 170, 269, 74, 19, 23, 78, 21, 377, 104, 299, 89, 56, 94, 139, 118, 36, 137, 107, 83, 66, 70, 112, 88, 51, 83, 123, 17, 185, 84, 52, 102, 73, 106, 486, 107, 82, 263, 172, 491, 190, 143, 62, 26, 88, 114, 38, 85, 112, 793, 104, 25, 21, 101, 28, 25, 81, 135, 73, 62, 18, 90, 266, 91, 64, 409, 92, 319, 166, 85, 200, 152, 474, 60, 58, 584, 71, 273, 51, 255, 28, 171, 143, 91, 46, 110, 77, 162, 24, 52, 175, 61, 95, 97, 259, 112, 73, 94, 17, 650, 23, 88, 309, 105, 89, 41, 314, 54, 374, 67, 160, 75, 207, 373, 84, 87, 74, 98, 136, 256, 95, 50, 108, 52, 100, 233, 86, 68, 47, 73, 158, 113, 23, 100, 80, 202, 104, 122, 101, 95, 118, 253, 192, 80, 183, 29, 604, 41, 103, 63, 147, 472, 58, 23, 37, 98, 73, 122, 812, 51, 179, 56, 60, 60, 25, 212, 34, 406, 122, 27, 86, 83, 43, 208, 26, 159, 65, 48, 335, 701, 314, 333, 68, 263, 124, 337, 180, 67, 81, 41, 92, 96, 185, 51, 75, 196, 54, 47, 48, 44, 166, 74, 111, 96, 167, 88, 100, 104, 36, 139, 35, 25, 17, 48, 88, 68, 36, 63, 115, 152, 82, 100, 181, 88, 109, 124, 234, 57, 199, 49, 131, 188, 192, 122, 290, 153, 297, 50, 71, 145, 185, 110, 93, 79, 116, 685, 28, 94, 260, 100, 88, 426, 24, 304, 28, 390, 224, 43, 48, 49, 17, 193, 158, 192, 169, 132, 132, 75, 94, 146, 41, 508, 61, 60, 121, 310, 232, 49, 49, 274, 297, 66, 142, 43, 17, 38, 245, 159, 57, 92, 149, 30, 67, 98, 16, 95, 481, 16, 16, 144, 178, 90, 56, 104, 303, 56, 222, 42, 222, 105, 87, 510, 30, 59, 81, 111, 82, 242, 26, 65, 67, 109, 83, 35, 100, 82, 106, 109, 58, 107, 65, 34, 41, 76, 57, 102, 748, 117, 23, 203, 78, 496, 139, 641, 75, 496, 524, 110, 17, 207, 34, 103, 96, 91, 170, 42, 100, 29, 807, 86, 58, 827, 116, 407, 174, 90, 100, 171, 59, 105, 255, 175, 171, 64, 17, 646, 103, 74, 226, 154, 18, 188, 96, 80, 719, 39, 70, 138, 392, 117, 70, 358, 188, 85, 83, 126, 93, 93, 17, 450, 34, 103, 200, 592, 35, 157, 82, 53, 67, 17, 27, 191, 222, 40, 31, 25, 133, 80, 226, 822, 16, 171, 204, 154, 81, 217, 82, 707, 100, 602, 48, 78, 44, 395, 44, 79, 53, 17, 55, 198, 70, 107, 161, 189, 79, 50, 82, 275, 64, 57, 41, 226, 68, 94, 118, 58, 75, 20, 173, 153, 199, 104, 52, 71, 107, 170, 79, 158, 202, 221, 200, 92, 188, 218, 51, 129, 75, 21, 17, 130, 134, 384, 61, 169, 25, 60, 293, 57, 105, 99, 112, 205, 593, 205, 239, 98, 94, 629, 397, 65, 220, 200, 132, 51, 269, 309, 204, 91, 54, 26, 163, 519, 91, 81, 208, 190, 73, 99, 96, 103, 75, 37, 45, 17, 874, 74, 107, 30, 28, 17, 30, 234, 16, 66, 233, 143, 373, 71, 92, 88, 311, 113, 674, 56, 40, 37, 107, 242, 171, 104, 258, 500, 75, 87, 90, 110, 126, 53, 17, 304, 23, 90, 57, 51, 88, 207, 100, 434, 73, 39, 17, 34, 199, 302, 136, 65, 119, 36, 310, 70, 136, 156, 229, 170, 136, 52, 84, 285, 158, 34, 16, 93, 98, 115, 197, 88, 175, 55, 304, 100, 74, 90, 109, 16, 66, 90, 88, 72, 102, 188, 140, 190, 72, 211, 103, 28, 85, 74, 55, 65, 90, 736, 66, 45, 133, 87, 216, 175, 62, 43, 576, 501, 66, 771, 703, 433, 73, 126, 95, 113, 90, 75, 91, 192, 120, 98, 328, 41, 54, 41, 43, 65, 248, 40, 98, 18, 149, 74, 49, 51, 93, 104, 99, 61, 62, 82, 81, 71, 83, 346, 610, 149, 130, 71, 199, 25, 1032, 87, 368, 143, 57, 59, 166, 217, 505, 32, 37, 70, 643, 24, 58, 49, 62, 287, 52, 693, 17, 722, 282, 192, 24, 58, 169, 89, 123, 564, 269, 109, 44, 173, 229, 184, 97, 583, 100, 41, 47, 58, 377, 68, 86, 17, 50, 177, 102, 600, 73, 192, 67, 79, 53, 78, 56, 187, 17, 17, 115, 94, 79, 67, 238, 85, 313, 200, 17, 95, 130, 143, 63, 244, 267, 18, 183, 178, 191, 78, 86, 40, 97, 232, 93, 83, 25, 90, 91, 36, 40, 150, 93, 204, 68, 78, 27, 316, 154, 383, 110, 80, 105, 43, 66, 105, 110, 60, 81, 160, 17, 56, 53, 149, 83, 177, 144, 63, 92, 244, 90, 39, 109, 455, 80, 17, 99, 189, 113, 74, 130, 64, 708, 105, 250, 68, 43, 33, 92, 90, 140, 746, 17, 91, 65, 146, 256, 485, 102, 17, 55, 51, 89, 58, 92, 93, 100, 225, 85, 113, 143, 86, 52, 113, 302, 101, 136, 296, 143, 88, 102, 171, 156, 251, 412, 143, 290, 21, 310, 63, 158, 198, 90, 77, 374, 17, 34, 186, 90, 50, 56, 90, 120, 130, 45, 96, 108, 185, 44, 187, 59, 17, 67, 269, 114, 234, 57, 94, 734, 102, 93, 240, 402, 108, 82, 17, 50, 65, 18, 77, 49, 65, 186, 153, 26, 113, 363, 49, 295, 81, 96, 137, 279, 308, 453, 29, 101, 138, 91, 253, 229, 84, 899, 126, 92, 192, 49, 184, 49, 19, 177, 241, 171, 22, 112, 472, 79, 49, 101, 41, 25, 69, 41, 142, 232, 52, 221, 87, 44, 35, 16, 306, 108, 41, 102, 629, 27, 254, 95, 65, 261, 25, 287, 416, 94, 63, 27, 133, 51]\n"
     ]
    }
   ],
   "source": [
    "print([len(a) for a in X_train[0:1000]])"
   ]
  },
  {
   "cell_type": "code",
   "execution_count": 95,
   "metadata": {},
   "outputs": [
    {
     "name": "stdout",
     "output_type": "stream",
     "text": [
      "traders\n"
     ]
    }
   ],
   "source": [
    "my_dict = get_word_index()\n",
    "my_dict_inv = {v: k for k, v in my_dict.items()}\n",
    "print(my_dict_inv.get(369, \"No existe en el diccionario\"))"
   ]
  },
  {
   "cell_type": "code",
   "execution_count": 96,
   "metadata": {},
   "outputs": [
    {
     "data": {
      "text/plain": [
       "46"
      ]
     },
     "execution_count": 96,
     "metadata": {},
     "output_type": "execute_result"
    }
   ],
   "source": [
    "n_cat = pd.Series(y_train).nunique()\n",
    "n_cat"
   ]
  },
  {
   "cell_type": "code",
   "execution_count": 97,
   "metadata": {},
   "outputs": [
    {
     "name": "stdout",
     "output_type": "stream",
     "text": [
      "Ejemplo de una noticia en formato de indice : \n",
      "[ 3  4  3  4  4  4  4  3  3 16  3  3  4  4 19  8 16  3  3 21 11  4  4  3\n",
      "  3  1  3  1  3 16  1  4 13 20  1  4  4 11  3  3  3 11 16  4  4 20 18 25\n",
      " 19  3  4  3  4  3  4  3  3  4  4  3  4  4  3 19 35  8  4  4  3 16 25  3\n",
      " 11  3  9 16 38 10  4  4  9  3  3 28 20  3  3  3  3  3  4  4  3  4  2  3\n",
      "  1  3 19  4]\n"
     ]
    }
   ],
   "source": [
    "print(\"Ejemplo de una noticia en formato de indice : \")\n",
    "print(y_train[0:100])"
   ]
  },
  {
   "cell_type": "code",
   "execution_count": 98,
   "metadata": {},
   "outputs": [
    {
     "name": "stdout",
     "output_type": "stream",
     "text": [
      "Categorias unicas de Y_train\n",
      "[ 0  1  2  3  4  5  6  7  8  9 10 11 12 13 14 15 16 17 18 19 20 21 22 23\n",
      " 24 25 26 27 28 29 30 31 32 33 34 35 36 37 38 39 40 41 42 43 44 45]\n"
     ]
    }
   ],
   "source": [
    "categorias_unicas = np.unique(y_train)\n",
    "print(\"Categorias unicas de Y_train\")\n",
    "print(categorias_unicas)"
   ]
  },
  {
   "cell_type": "code",
   "execution_count": 99,
   "metadata": {},
   "outputs": [
    {
     "data": {
      "text/plain": [
       "[('the', 1),\n",
       " ('of', 2),\n",
       " ('to', 3),\n",
       " ('in', 4),\n",
       " ('said', 5),\n",
       " ('and', 6),\n",
       " ('a', 7),\n",
       " ('mln', 8),\n",
       " ('3', 9),\n",
       " ('for', 10),\n",
       " ('vs', 11),\n",
       " ('dlrs', 12),\n",
       " ('it', 13),\n",
       " ('reuter', 14),\n",
       " ('000', 15),\n",
       " ('1', 16),\n",
       " ('pct', 17),\n",
       " ('on', 18),\n",
       " ('from', 19),\n",
       " ('is', 20),\n",
       " ('that', 21),\n",
       " ('its', 22),\n",
       " ('cts', 23),\n",
       " ('by', 24),\n",
       " ('at', 25),\n",
       " ('year', 26),\n",
       " ('be', 27),\n",
       " ('with', 28),\n",
       " ('2', 29),\n",
       " ('will', 30),\n",
       " ('was', 31),\n",
       " ('billion', 32),\n",
       " ('he', 33),\n",
       " ('u', 34),\n",
       " ('s', 35),\n",
       " ('net', 36),\n",
       " ('has', 37),\n",
       " ('would', 38),\n",
       " ('an', 39),\n",
       " ('as', 40),\n",
       " ('5', 41),\n",
       " ('not', 42),\n",
       " ('loss', 43),\n",
       " ('4', 44),\n",
       " ('1986', 45),\n",
       " ('company', 46),\n",
       " ('which', 47),\n",
       " ('but', 48),\n",
       " ('this', 49),\n",
       " ('shr', 50),\n",
       " ('last', 51),\n",
       " ('are', 52),\n",
       " ('lt', 53),\n",
       " ('have', 54),\n",
       " ('or', 55),\n",
       " ('6', 56),\n",
       " ('bank', 57),\n",
       " ('7', 58),\n",
       " ('were', 59),\n",
       " ('8', 60),\n",
       " ('had', 61),\n",
       " ('oil', 62),\n",
       " ('trade', 63),\n",
       " ('share', 64),\n",
       " ('one', 65),\n",
       " ('about', 66),\n",
       " ('0', 67),\n",
       " ('inc', 68),\n",
       " ('9', 69),\n",
       " ('new', 70),\n",
       " ('profit', 71),\n",
       " ('also', 72),\n",
       " ('market', 73),\n",
       " ('they', 74),\n",
       " ('two', 75),\n",
       " ('shares', 76),\n",
       " ('stock', 77),\n",
       " ('corp', 78),\n",
       " ('tonnes', 79),\n",
       " ('10', 80),\n",
       " ('up', 81),\n",
       " ('been', 82),\n",
       " ('revs', 83),\n",
       " ('prices', 84),\n",
       " ('sales', 85),\n",
       " ('1987', 86),\n",
       " ('per', 87),\n",
       " ('may', 88),\n",
       " ('after', 89),\n",
       " ('april', 90),\n",
       " ('march', 91),\n",
       " ('more', 92),\n",
       " ('price', 93),\n",
       " ('than', 94),\n",
       " ('quarter', 95),\n",
       " ('first', 96),\n",
       " ('other', 97),\n",
       " ('rate', 98),\n",
       " ('15', 99),\n",
       " ('group', 100),\n",
       " ('february', 101),\n",
       " ('1985', 102),\n",
       " ('government', 103),\n",
       " ('if', 104),\n",
       " ('exchange', 105),\n",
       " ('three', 106),\n",
       " ('january', 107),\n",
       " ('co', 108),\n",
       " ('against', 109),\n",
       " ('dollar', 110),\n",
       " ('could', 111),\n",
       " ('we', 112),\n",
       " ('offer', 113),\n",
       " ('over', 114),\n",
       " ('told', 115),\n",
       " ('20', 116),\n",
       " ('agreement', 117),\n",
       " ('week', 118),\n",
       " ('production', 119),\n",
       " ('note', 120),\n",
       " ('30', 121),\n",
       " ('their', 122),\n",
       " ('some', 123),\n",
       " ('foreign', 124),\n",
       " ('interest', 125),\n",
       " ('no', 126),\n",
       " ('japan', 127),\n",
       " ('tax', 128),\n",
       " ('50', 129),\n",
       " ('expected', 130),\n",
       " ('12', 131),\n",
       " ('total', 132),\n",
       " ('under', 133),\n",
       " ('all', 134),\n",
       " ('rose', 135),\n",
       " ('month', 136),\n",
       " ('rates', 137),\n",
       " ('international', 138),\n",
       " ('five', 139),\n",
       " ('current', 140),\n",
       " ('there', 141),\n",
       " ('today', 142),\n",
       " ('record', 143),\n",
       " ('25', 144),\n",
       " ('increase', 145),\n",
       " ('ltd', 146),\n",
       " ('dlr', 147),\n",
       " ('nine', 148),\n",
       " ('added', 149),\n",
       " ('end', 150),\n",
       " ('rise', 151),\n",
       " ('six', 152),\n",
       " ('31', 153),\n",
       " ('earlier', 154),\n",
       " ('16', 155),\n",
       " ('growth', 156),\n",
       " ('11', 157),\n",
       " ('because', 158),\n",
       " ('exports', 159),\n",
       " ('meeting', 160),\n",
       " ('between', 161),\n",
       " ('13', 162),\n",
       " ('board', 163),\n",
       " ('stg', 164),\n",
       " ('economic', 165),\n",
       " ('world', 166),\n",
       " ('made', 167),\n",
       " ('banks', 168),\n",
       " ('into', 169),\n",
       " ('officials', 170),\n",
       " ('japanese', 171),\n",
       " ('common', 172),\n",
       " ('spokesman', 173),\n",
       " ('months', 174),\n",
       " ('oper', 175),\n",
       " ('official', 176),\n",
       " ('avg', 177),\n",
       " ('major', 178),\n",
       " ('industry', 179),\n",
       " ('shrs', 180),\n",
       " ('while', 181),\n",
       " ('when', 182),\n",
       " ('earnings', 183),\n",
       " ('14', 184),\n",
       " ('four', 185),\n",
       " ('now', 186),\n",
       " ('countries', 187),\n",
       " ('17', 188),\n",
       " ('west', 189),\n",
       " ('87', 190),\n",
       " ('any', 191),\n",
       " ('president', 192),\n",
       " ('18', 193),\n",
       " ('cash', 194),\n",
       " ('export', 195),\n",
       " ('sources', 196),\n",
       " ('agreed', 197),\n",
       " ('companies', 198),\n",
       " ('fell', 199),\n",
       " ('imports', 200)]"
      ]
     },
     "execution_count": 99,
     "metadata": {},
     "output_type": "execute_result"
    }
   ],
   "source": [
    "sorted_dict = dict(sorted(my_dict.items(), key=lambda item: item[1]))\n",
    "\n",
    "list(sorted_dict.items())[0:200]"
   ]
  },
  {
   "cell_type": "code",
   "execution_count": 100,
   "metadata": {},
   "outputs": [
    {
     "name": "stdout",
     "output_type": "stream",
     "text": [
      "the of of mln loss for plc said at only ended said commonwealth could 1 traders now april 0 a after said from 1985 and from foreign 000 april 0 prices its account year a but in this mln home an states earlier and rise and revs vs 000 its 16 vs 000 a but 3 psbr oils several and shareholders and dividend vs 000 its all 4 vs 000 1 mln agreed largely april 0 are 2 states will billion total and against 000 pct dlrs\n"
     ]
    }
   ],
   "source": [
    "i_news = 0\n",
    "\n",
    "news = list(pd.Series(X_train[i_news]).apply(lambda x: my_dict_inv[x]))\n",
    "print(' '.join(news))"
   ]
  },
  {
   "cell_type": "code",
   "execution_count": 101,
   "metadata": {},
   "outputs": [],
   "source": [
    "X_train = sequence.pad_sequences(X_train, maxlen=100)\n",
    "X_test = sequence.pad_sequences(X_test, maxlen=100)"
   ]
  },
  {
   "cell_type": "code",
   "execution_count": 102,
   "metadata": {},
   "outputs": [],
   "source": [
    "y = np.concatenate((y_train, y_test), axis = 0)\n",
    "y = to_categorical(y, 46)\n",
    "\n",
    "y_train = y[:n_train_size, :]\n",
    "y_test = y[n_train_size:, :]"
   ]
  },
  {
   "cell_type": "code",
   "execution_count": 103,
   "metadata": {},
   "outputs": [
    {
     "data": {
      "text/plain": [
       "array([[0., 0., 0., ..., 0., 0., 0.],\n",
       "       [0., 0., 0., ..., 0., 0., 0.],\n",
       "       [0., 0., 0., ..., 0., 0., 0.],\n",
       "       ...,\n",
       "       [0., 0., 0., ..., 0., 0., 0.],\n",
       "       [0., 0., 0., ..., 0., 0., 0.],\n",
       "       [0., 0., 0., ..., 0., 0., 0.]])"
      ]
     },
     "execution_count": 103,
     "metadata": {},
     "output_type": "execute_result"
    }
   ],
   "source": [
    "y_test\n",
    "y_train"
   ]
  },
  {
   "cell_type": "code",
   "execution_count": 104,
   "metadata": {},
   "outputs": [],
   "source": [
    "n_neurons = 100\n",
    "\n",
    "n_input = 100"
   ]
  },
  {
   "cell_type": "code",
   "execution_count": 105,
   "metadata": {},
   "outputs": [],
   "source": [
    "my_model = Sequential()\n",
    "\n",
    "my_model.add(Embedding(n_words, n_input, input_length=1000))\n",
    "\n",
    "my_model.add(LSTM(units=n_neurons, return_sequences=False, input_shape=(None, n_input), activation='tanh'))\n",
    "\n",
    "my_model.add(Dense(units=n_cat, activation='softmax'))\n"
   ]
  },
  {
   "cell_type": "code",
   "execution_count": 106,
   "metadata": {},
   "outputs": [
    {
     "data": {
      "text/html": [
       "<pre style=\"white-space:pre;overflow-x:auto;line-height:normal;font-family:Menlo,'DejaVu Sans Mono',consolas,'Courier New',monospace\"><span style=\"font-weight: bold\">Model: \"sequential_4\"</span>\n",
       "</pre>\n"
      ],
      "text/plain": [
       "\u001b[1mModel: \"sequential_4\"\u001b[0m\n"
      ]
     },
     "metadata": {},
     "output_type": "display_data"
    },
    {
     "data": {
      "text/html": [
       "<pre style=\"white-space:pre;overflow-x:auto;line-height:normal;font-family:Menlo,'DejaVu Sans Mono',consolas,'Courier New',monospace\">┏━━━━━━━━━━━━━━━━━━━━━━━━━━━━━━━━━┳━━━━━━━━━━━━━━━━━━━━━━━━┳━━━━━━━━━━━━━━━┓\n",
       "┃<span style=\"font-weight: bold\"> Layer (type)                    </span>┃<span style=\"font-weight: bold\"> Output Shape           </span>┃<span style=\"font-weight: bold\">       Param # </span>┃\n",
       "┡━━━━━━━━━━━━━━━━━━━━━━━━━━━━━━━━━╇━━━━━━━━━━━━━━━━━━━━━━━━╇━━━━━━━━━━━━━━━┩\n",
       "│ embedding_4 (<span style=\"color: #0087ff; text-decoration-color: #0087ff\">Embedding</span>)         │ ?                      │   <span style=\"color: #00af00; text-decoration-color: #00af00\">0</span> (unbuilt) │\n",
       "├─────────────────────────────────┼────────────────────────┼───────────────┤\n",
       "│ lstm_4 (<span style=\"color: #0087ff; text-decoration-color: #0087ff\">LSTM</span>)                   │ ?                      │   <span style=\"color: #00af00; text-decoration-color: #00af00\">0</span> (unbuilt) │\n",
       "├─────────────────────────────────┼────────────────────────┼───────────────┤\n",
       "│ dense_4 (<span style=\"color: #0087ff; text-decoration-color: #0087ff\">Dense</span>)                 │ ?                      │   <span style=\"color: #00af00; text-decoration-color: #00af00\">0</span> (unbuilt) │\n",
       "└─────────────────────────────────┴────────────────────────┴───────────────┘\n",
       "</pre>\n"
      ],
      "text/plain": [
       "┏━━━━━━━━━━━━━━━━━━━━━━━━━━━━━━━━━┳━━━━━━━━━━━━━━━━━━━━━━━━┳━━━━━━━━━━━━━━━┓\n",
       "┃\u001b[1m \u001b[0m\u001b[1mLayer (type)                   \u001b[0m\u001b[1m \u001b[0m┃\u001b[1m \u001b[0m\u001b[1mOutput Shape          \u001b[0m\u001b[1m \u001b[0m┃\u001b[1m \u001b[0m\u001b[1m      Param #\u001b[0m\u001b[1m \u001b[0m┃\n",
       "┡━━━━━━━━━━━━━━━━━━━━━━━━━━━━━━━━━╇━━━━━━━━━━━━━━━━━━━━━━━━╇━━━━━━━━━━━━━━━┩\n",
       "│ embedding_4 (\u001b[38;5;33mEmbedding\u001b[0m)         │ ?                      │   \u001b[38;5;34m0\u001b[0m (unbuilt) │\n",
       "├─────────────────────────────────┼────────────────────────┼───────────────┤\n",
       "│ lstm_4 (\u001b[38;5;33mLSTM\u001b[0m)                   │ ?                      │   \u001b[38;5;34m0\u001b[0m (unbuilt) │\n",
       "├─────────────────────────────────┼────────────────────────┼───────────────┤\n",
       "│ dense_4 (\u001b[38;5;33mDense\u001b[0m)                 │ ?                      │   \u001b[38;5;34m0\u001b[0m (unbuilt) │\n",
       "└─────────────────────────────────┴────────────────────────┴───────────────┘\n"
      ]
     },
     "metadata": {},
     "output_type": "display_data"
    },
    {
     "data": {
      "text/html": [
       "<pre style=\"white-space:pre;overflow-x:auto;line-height:normal;font-family:Menlo,'DejaVu Sans Mono',consolas,'Courier New',monospace\"><span style=\"font-weight: bold\"> Total params: </span><span style=\"color: #00af00; text-decoration-color: #00af00\">0</span> (0.00 B)\n",
       "</pre>\n"
      ],
      "text/plain": [
       "\u001b[1m Total params: \u001b[0m\u001b[38;5;34m0\u001b[0m (0.00 B)\n"
      ]
     },
     "metadata": {},
     "output_type": "display_data"
    },
    {
     "data": {
      "text/html": [
       "<pre style=\"white-space:pre;overflow-x:auto;line-height:normal;font-family:Menlo,'DejaVu Sans Mono',consolas,'Courier New',monospace\"><span style=\"font-weight: bold\"> Trainable params: </span><span style=\"color: #00af00; text-decoration-color: #00af00\">0</span> (0.00 B)\n",
       "</pre>\n"
      ],
      "text/plain": [
       "\u001b[1m Trainable params: \u001b[0m\u001b[38;5;34m0\u001b[0m (0.00 B)\n"
      ]
     },
     "metadata": {},
     "output_type": "display_data"
    },
    {
     "data": {
      "text/html": [
       "<pre style=\"white-space:pre;overflow-x:auto;line-height:normal;font-family:Menlo,'DejaVu Sans Mono',consolas,'Courier New',monospace\"><span style=\"font-weight: bold\"> Non-trainable params: </span><span style=\"color: #00af00; text-decoration-color: #00af00\">0</span> (0.00 B)\n",
       "</pre>\n"
      ],
      "text/plain": [
       "\u001b[1m Non-trainable params: \u001b[0m\u001b[38;5;34m0\u001b[0m (0.00 B)\n"
      ]
     },
     "metadata": {},
     "output_type": "display_data"
    }
   ],
   "source": [
    "my_model.summary()"
   ]
  },
  {
   "cell_type": "code",
   "execution_count": 107,
   "metadata": {},
   "outputs": [
    {
     "data": {
      "text/html": [
       "<pre style=\"white-space:pre;overflow-x:auto;line-height:normal;font-family:Menlo,'DejaVu Sans Mono',consolas,'Courier New',monospace\"><span style=\"font-weight: bold\">Model: \"sequential_5\"</span>\n",
       "</pre>\n"
      ],
      "text/plain": [
       "\u001b[1mModel: \"sequential_5\"\u001b[0m\n"
      ]
     },
     "metadata": {},
     "output_type": "display_data"
    },
    {
     "data": {
      "text/html": [
       "<pre style=\"white-space:pre;overflow-x:auto;line-height:normal;font-family:Menlo,'DejaVu Sans Mono',consolas,'Courier New',monospace\">┏━━━━━━━━━━━━━━━━━━━━━━━━━━━━━━━━━┳━━━━━━━━━━━━━━━━━━━━━━━━┳━━━━━━━━━━━━━━━┓\n",
       "┃<span style=\"font-weight: bold\"> Layer (type)                    </span>┃<span style=\"font-weight: bold\"> Output Shape           </span>┃<span style=\"font-weight: bold\">       Param # </span>┃\n",
       "┡━━━━━━━━━━━━━━━━━━━━━━━━━━━━━━━━━╇━━━━━━━━━━━━━━━━━━━━━━━━╇━━━━━━━━━━━━━━━┩\n",
       "│ embedding_5 (<span style=\"color: #0087ff; text-decoration-color: #0087ff\">Embedding</span>)         │ (<span style=\"color: #00d7ff; text-decoration-color: #00d7ff\">None</span>, <span style=\"color: #00af00; text-decoration-color: #00af00\">1000</span>, <span style=\"color: #00af00; text-decoration-color: #00af00\">100</span>)      │     <span style=\"color: #00af00; text-decoration-color: #00af00\">1,000,000</span> │\n",
       "├─────────────────────────────────┼────────────────────────┼───────────────┤\n",
       "│ lstm_5 (<span style=\"color: #0087ff; text-decoration-color: #0087ff\">LSTM</span>)                   │ (<span style=\"color: #00d7ff; text-decoration-color: #00d7ff\">None</span>, <span style=\"color: #00af00; text-decoration-color: #00af00\">100</span>)            │        <span style=\"color: #00af00; text-decoration-color: #00af00\">80,400</span> │\n",
       "├─────────────────────────────────┼────────────────────────┼───────────────┤\n",
       "│ dense_5 (<span style=\"color: #0087ff; text-decoration-color: #0087ff\">Dense</span>)                 │ (<span style=\"color: #00d7ff; text-decoration-color: #00d7ff\">None</span>, <span style=\"color: #00af00; text-decoration-color: #00af00\">46</span>)             │         <span style=\"color: #00af00; text-decoration-color: #00af00\">4,646</span> │\n",
       "└─────────────────────────────────┴────────────────────────┴───────────────┘\n",
       "</pre>\n"
      ],
      "text/plain": [
       "┏━━━━━━━━━━━━━━━━━━━━━━━━━━━━━━━━━┳━━━━━━━━━━━━━━━━━━━━━━━━┳━━━━━━━━━━━━━━━┓\n",
       "┃\u001b[1m \u001b[0m\u001b[1mLayer (type)                   \u001b[0m\u001b[1m \u001b[0m┃\u001b[1m \u001b[0m\u001b[1mOutput Shape          \u001b[0m\u001b[1m \u001b[0m┃\u001b[1m \u001b[0m\u001b[1m      Param #\u001b[0m\u001b[1m \u001b[0m┃\n",
       "┡━━━━━━━━━━━━━━━━━━━━━━━━━━━━━━━━━╇━━━━━━━━━━━━━━━━━━━━━━━━╇━━━━━━━━━━━━━━━┩\n",
       "│ embedding_5 (\u001b[38;5;33mEmbedding\u001b[0m)         │ (\u001b[38;5;45mNone\u001b[0m, \u001b[38;5;34m1000\u001b[0m, \u001b[38;5;34m100\u001b[0m)      │     \u001b[38;5;34m1,000,000\u001b[0m │\n",
       "├─────────────────────────────────┼────────────────────────┼───────────────┤\n",
       "│ lstm_5 (\u001b[38;5;33mLSTM\u001b[0m)                   │ (\u001b[38;5;45mNone\u001b[0m, \u001b[38;5;34m100\u001b[0m)            │        \u001b[38;5;34m80,400\u001b[0m │\n",
       "├─────────────────────────────────┼────────────────────────┼───────────────┤\n",
       "│ dense_5 (\u001b[38;5;33mDense\u001b[0m)                 │ (\u001b[38;5;45mNone\u001b[0m, \u001b[38;5;34m46\u001b[0m)             │         \u001b[38;5;34m4,646\u001b[0m │\n",
       "└─────────────────────────────────┴────────────────────────┴───────────────┘\n"
      ]
     },
     "metadata": {},
     "output_type": "display_data"
    },
    {
     "data": {
      "text/html": [
       "<pre style=\"white-space:pre;overflow-x:auto;line-height:normal;font-family:Menlo,'DejaVu Sans Mono',consolas,'Courier New',monospace\"><span style=\"font-weight: bold\"> Total params: </span><span style=\"color: #00af00; text-decoration-color: #00af00\">1,085,046</span> (4.14 MB)\n",
       "</pre>\n"
      ],
      "text/plain": [
       "\u001b[1m Total params: \u001b[0m\u001b[38;5;34m1,085,046\u001b[0m (4.14 MB)\n"
      ]
     },
     "metadata": {},
     "output_type": "display_data"
    },
    {
     "data": {
      "text/html": [
       "<pre style=\"white-space:pre;overflow-x:auto;line-height:normal;font-family:Menlo,'DejaVu Sans Mono',consolas,'Courier New',monospace\"><span style=\"font-weight: bold\"> Trainable params: </span><span style=\"color: #00af00; text-decoration-color: #00af00\">1,085,046</span> (4.14 MB)\n",
       "</pre>\n"
      ],
      "text/plain": [
       "\u001b[1m Trainable params: \u001b[0m\u001b[38;5;34m1,085,046\u001b[0m (4.14 MB)\n"
      ]
     },
     "metadata": {},
     "output_type": "display_data"
    },
    {
     "data": {
      "text/html": [
       "<pre style=\"white-space:pre;overflow-x:auto;line-height:normal;font-family:Menlo,'DejaVu Sans Mono',consolas,'Courier New',monospace\"><span style=\"font-weight: bold\"> Non-trainable params: </span><span style=\"color: #00af00; text-decoration-color: #00af00\">0</span> (0.00 B)\n",
       "</pre>\n"
      ],
      "text/plain": [
       "\u001b[1m Non-trainable params: \u001b[0m\u001b[38;5;34m0\u001b[0m (0.00 B)\n"
      ]
     },
     "metadata": {},
     "output_type": "display_data"
    }
   ],
   "source": [
    "import tensorflow as tf\n",
    "\n",
    "my_model = Sequential()\n",
    "\n",
    "my_model.add(Embedding(input_dim=n_words, output_dim=n_input, input_length=1000))\n",
    "\n",
    "my_model.add(LSTM(units=n_neurons, return_sequences=False, activation='tanh'))\n",
    "\n",
    "my_model.add(Dense(units=n_cat, activation='softmax'))\n",
    "\n",
    "my_model.build(input_shape=(None, 1000))\n",
    "\n",
    "my_model.summary()"
   ]
  },
  {
   "cell_type": "code",
   "execution_count": null,
   "metadata": {},
   "outputs": [],
   "source": []
  },
  {
   "cell_type": "code",
   "execution_count": 114,
   "metadata": {},
   "outputs": [
    {
     "name": "stdout",
     "output_type": "stream",
     "text": [
      "2.18.0\n"
     ]
    }
   ],
   "source": [
    "import tensorflow as tf\n",
    "print(tf.__version__)\n"
   ]
  },
  {
   "cell_type": "code",
   "execution_count": 108,
   "metadata": {},
   "outputs": [],
   "source": [
    "n_epochs = 20\n",
    "batch_size = 20\n",
    "learn_rate = 0.001"
   ]
  },
  {
   "cell_type": "code",
   "execution_count": 109,
   "metadata": {},
   "outputs": [],
   "source": [
    "my_optimizer = Adam(learning_rate=learn_rate)\n",
    "\n",
    "my_model.compile(\n",
    "    loss='categorical_crossentropy',\n",
    "    optimizer=my_optimizer,\n",
    "    metrics=['accuracy']\n",
    ")"
   ]
  },
  {
   "cell_type": "code",
   "execution_count": 110,
   "metadata": {},
   "outputs": [
    {
     "name": "stdout",
     "output_type": "stream",
     "text": [
      "Epoch 1/20\n",
      "\u001b[1m315/315\u001b[0m \u001b[32m━━━━━━━━━━━━━━━━━━━━\u001b[0m\u001b[37m\u001b[0m \u001b[1m12s\u001b[0m 34ms/step - accuracy: 0.4143 - loss: 2.4769 - val_accuracy: 0.5324 - val_loss: 1.9019\n",
      "Epoch 2/20\n",
      "\u001b[1m315/315\u001b[0m \u001b[32m━━━━━━━━━━━━━━━━━━━━\u001b[0m\u001b[37m\u001b[0m \u001b[1m10s\u001b[0m 32ms/step - accuracy: 0.5265 - loss: 1.8892 - val_accuracy: 0.5700 - val_loss: 1.7052\n",
      "Epoch 3/20\n",
      "\u001b[1m315/315\u001b[0m \u001b[32m━━━━━━━━━━━━━━━━━━━━\u001b[0m\u001b[37m\u001b[0m \u001b[1m10s\u001b[0m 31ms/step - accuracy: 0.5720 - loss: 1.7209 - val_accuracy: 0.5840 - val_loss: 1.6533\n",
      "Epoch 4/20\n",
      "\u001b[1m315/315\u001b[0m \u001b[32m━━━━━━━━━━━━━━━━━━━━\u001b[0m\u001b[37m\u001b[0m \u001b[1m12s\u001b[0m 37ms/step - accuracy: 0.6078 - loss: 1.5688 - val_accuracy: 0.6132 - val_loss: 1.5539\n",
      "Epoch 5/20\n",
      "\u001b[1m315/315\u001b[0m \u001b[32m━━━━━━━━━━━━━━━━━━━━\u001b[0m\u001b[37m\u001b[0m \u001b[1m12s\u001b[0m 38ms/step - accuracy: 0.6603 - loss: 1.2940 - val_accuracy: 0.6482 - val_loss: 1.3805\n",
      "Epoch 6/20\n",
      "\u001b[1m315/315\u001b[0m \u001b[32m━━━━━━━━━━━━━━━━━━━━\u001b[0m\u001b[37m\u001b[0m \u001b[1m12s\u001b[0m 37ms/step - accuracy: 0.7340 - loss: 1.0357 - val_accuracy: 0.6444 - val_loss: 1.4216\n",
      "Epoch 7/20\n",
      "\u001b[1m315/315\u001b[0m \u001b[32m━━━━━━━━━━━━━━━━━━━━\u001b[0m\u001b[37m\u001b[0m \u001b[1m12s\u001b[0m 38ms/step - accuracy: 0.7786 - loss: 0.8697 - val_accuracy: 0.6768 - val_loss: 1.4145\n",
      "Epoch 8/20\n",
      "\u001b[1m315/315\u001b[0m \u001b[32m━━━━━━━━━━━━━━━━━━━━\u001b[0m\u001b[37m\u001b[0m \u001b[1m11s\u001b[0m 33ms/step - accuracy: 0.8201 - loss: 0.6876 - val_accuracy: 0.7042 - val_loss: 1.3685\n",
      "Epoch 9/20\n",
      "\u001b[1m315/315\u001b[0m \u001b[32m━━━━━━━━━━━━━━━━━━━━\u001b[0m\u001b[37m\u001b[0m \u001b[1m10s\u001b[0m 33ms/step - accuracy: 0.8724 - loss: 0.5191 - val_accuracy: 0.6762 - val_loss: 1.4384\n",
      "Epoch 10/20\n",
      "\u001b[1m315/315\u001b[0m \u001b[32m━━━━━━━━━━━━━━━━━━━━\u001b[0m\u001b[37m\u001b[0m \u001b[1m10s\u001b[0m 32ms/step - accuracy: 0.8974 - loss: 0.4075 - val_accuracy: 0.6756 - val_loss: 1.4900\n",
      "Epoch 11/20\n",
      "\u001b[1m315/315\u001b[0m \u001b[32m━━━━━━━━━━━━━━━━━━━━\u001b[0m\u001b[37m\u001b[0m \u001b[1m10s\u001b[0m 33ms/step - accuracy: 0.9232 - loss: 0.3268 - val_accuracy: 0.6908 - val_loss: 1.4926\n",
      "Epoch 12/20\n",
      "\u001b[1m315/315\u001b[0m \u001b[32m━━━━━━━━━━━━━━━━━━━━\u001b[0m\u001b[37m\u001b[0m \u001b[1m13s\u001b[0m 40ms/step - accuracy: 0.9424 - loss: 0.2460 - val_accuracy: 0.6686 - val_loss: 1.6052\n",
      "Epoch 13/20\n",
      "\u001b[1m315/315\u001b[0m \u001b[32m━━━━━━━━━━━━━━━━━━━━\u001b[0m\u001b[37m\u001b[0m \u001b[1m13s\u001b[0m 41ms/step - accuracy: 0.9523 - loss: 0.1902 - val_accuracy: 0.6858 - val_loss: 1.6048\n",
      "Epoch 14/20\n",
      "\u001b[1m315/315\u001b[0m \u001b[32m━━━━━━━━━━━━━━━━━━━━\u001b[0m\u001b[37m\u001b[0m \u001b[1m13s\u001b[0m 40ms/step - accuracy: 0.9583 - loss: 0.1659 - val_accuracy: 0.6985 - val_loss: 1.6182\n",
      "Epoch 15/20\n",
      "\u001b[1m315/315\u001b[0m \u001b[32m━━━━━━━━━━━━━━━━━━━━\u001b[0m\u001b[37m\u001b[0m \u001b[1m12s\u001b[0m 37ms/step - accuracy: 0.9599 - loss: 0.1456 - val_accuracy: 0.6934 - val_loss: 1.6793\n",
      "Epoch 16/20\n",
      "\u001b[1m315/315\u001b[0m \u001b[32m━━━━━━━━━━━━━━━━━━━━\u001b[0m\u001b[37m\u001b[0m \u001b[1m10s\u001b[0m 33ms/step - accuracy: 0.9657 - loss: 0.1234 - val_accuracy: 0.6978 - val_loss: 1.6662\n",
      "Epoch 17/20\n",
      "\u001b[1m315/315\u001b[0m \u001b[32m━━━━━━━━━━━━━━━━━━━━\u001b[0m\u001b[37m\u001b[0m \u001b[1m10s\u001b[0m 31ms/step - accuracy: 0.9646 - loss: 0.1058 - val_accuracy: 0.6927 - val_loss: 1.6874\n",
      "Epoch 18/20\n",
      "\u001b[1m315/315\u001b[0m \u001b[32m━━━━━━━━━━━━━━━━━━━━\u001b[0m\u001b[37m\u001b[0m \u001b[1m10s\u001b[0m 31ms/step - accuracy: 0.9716 - loss: 0.0852 - val_accuracy: 0.6877 - val_loss: 1.8085\n",
      "Epoch 19/20\n",
      "\u001b[1m315/315\u001b[0m \u001b[32m━━━━━━━━━━━━━━━━━━━━\u001b[0m\u001b[37m\u001b[0m \u001b[1m10s\u001b[0m 32ms/step - accuracy: 0.9686 - loss: 0.0873 - val_accuracy: 0.6864 - val_loss: 1.8527\n",
      "Epoch 20/20\n",
      "\u001b[1m315/315\u001b[0m \u001b[32m━━━━━━━━━━━━━━━━━━━━\u001b[0m\u001b[37m\u001b[0m \u001b[1m10s\u001b[0m 32ms/step - accuracy: 0.9651 - loss: 0.1013 - val_accuracy: 0.6902 - val_loss: 1.8227\n"
     ]
    }
   ],
   "source": [
    "my_summary = my_model.fit(\n",
    "    X_train, \n",
    "    y_train,\n",
    "    epochs=n_epochs,\n",
    "    batch_size=batch_size,\n",
    "    validation_split=0.2,\n",
    "    verbose=1\n",
    ")"
   ]
  },
  {
   "cell_type": "code",
   "execution_count": 112,
   "metadata": {},
   "outputs": [
    {
     "data": {
      "image/png": "[encoded data removed]",
      "text/plain": [
       "<Figure size 640x480 with 1 Axes>"
      ]
     },
     "metadata": {},
     "output_type": "display_data"
    }
   ],
   "source": [
    "plt.plot(my_summary.history[\"accuracy\"], c='b')\n",
    "plt.plot(my_summary.history[\"val_accuracy\"], c='g')\n",
    "plt.title(\"Training History\")\n",
    "plt.xlabel(\"Epoch\")\n",
    "plt.ylabel(\"Accuracy\")\n",
    "plt.legend()\n",
    "plt.show()"
   ]
  }
 ],
 "metadata": {
  "kernelspec": {
   "display_name": "env",
   "language": "python",
   "name": "python3"
  },
  "language_info": {
   "codemirror_mode": {
    "name": "ipython",
    "version": 3
   },
   "file_extension": ".py",
   "mimetype": "text/x-python",
   "name": "python",
   "nbconvert_exporter": "python",
   "pygments_lexer": "ipython3",
   "version": "3.12.6"
  }
 },
 "nbformat": 4,
 "nbformat_minor": 2
}
