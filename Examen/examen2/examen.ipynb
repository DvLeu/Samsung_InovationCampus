{
 "cells": [
  {
   "cell_type": "markdown",
   "metadata": {},
   "source": [
    "# Examen Samsung\n",
    "Realizado por : David León Salas"
   ]
  },
  {
   "cell_type": "markdown",
   "metadata": {},
   "source": [
    "Esta parte viene en el documento"
   ]
  },
  {
   "cell_type": "code",
   "execution_count": 1,
   "metadata": {},
   "outputs": [],
   "source": [
    "import numpy as np\n",
    "import pandas as pd\n",
    "from sklearn.datasets import load_breast_cancer\n",
    "\n",
    "data = load_breast_cancer()\n",
    "df = pd.DataFrame(data.data, columns=data.feature_names)\n",
    "df = df.assign(target=pd.Series(1 - data.target))\n"
   ]
  },
  {
   "cell_type": "code",
   "execution_count": 2,
   "metadata": {},
   "outputs": [],
   "source": [
    "corr = df.corr() #? Calculamos la correlacion del dataframe\n",
    "corr = corr.round(3) #? Aqui estoy redondeando a 3 decimales"
   ]
  },
  {
   "cell_type": "code",
   "execution_count": 3,
   "metadata": {},
   "outputs": [],
   "source": [
    "corr_target = corr['target'] #? Seleccionar la columna de la matriz de correlación que corresponde a 'target'\n",
    "corr_target = corr_target[:-1] #? Seleccionar todos los elementos de la Serie menos el ultimo "
   ]
  },
  {
   "cell_type": "code",
   "execution_count": 4,
   "metadata": {},
   "outputs": [],
   "source": [
    "max_indexcorrelacion = corr_target.idxmax() #? Usar la función idxmax() para encontrar el índice del valor máximo en el conjunto de correlaciones resultantes\n",
    "max_corr_value = corr_target[max_indexcorrelacion] #? # Paso 8: Usar el índice calculado para seleccionar directamente el valor correspondiente en la columna 'target' completa"
   ]
  },
  {
   "cell_type": "markdown",
   "metadata": {},
   "source": [
    "Impresion de datos : "
   ]
  },
  {
   "cell_type": "code",
   "execution_count": 5,
   "metadata": {},
   "outputs": [
    {
     "name": "stdout",
     "output_type": "stream",
     "text": [
      "Correlaciones entre 'target' y las demás variables: \n",
      "mean radius                0.730\n",
      "mean texture               0.415\n",
      "mean perimeter             0.743\n",
      "mean area                  0.709\n",
      "mean smoothness            0.359\n",
      "mean compactness           0.597\n",
      "mean concavity             0.696\n",
      "mean concave points        0.777\n",
      "mean symmetry              0.330\n",
      "mean fractal dimension    -0.013\n",
      "radius error               0.567\n",
      "texture error             -0.008\n",
      "perimeter error            0.556\n",
      "area error                 0.548\n",
      "smoothness error          -0.067\n",
      "compactness error          0.293\n",
      "concavity error            0.254\n",
      "concave points error       0.408\n",
      "symmetry error            -0.007\n",
      "fractal dimension error    0.078\n",
      "worst radius               0.776\n",
      "worst texture              0.457\n",
      "worst perimeter            0.783\n",
      "worst area                 0.734\n",
      "worst smoothness           0.421\n",
      "worst compactness          0.591\n",
      "worst concavity            0.660\n",
      "worst concave points       0.794\n",
      "worst symmetry             0.416\n",
      "worst fractal dimension    0.324\n",
      "Name: target, dtype: float64\n",
      "\n",
      "La característica más correlacionada con la variable objetivo 'target' es: 'worst concave points'\n",
      "Valor de correlación: 0.794\n"
     ]
    }
   ],
   "source": [
    "print(f\"Correlaciones entre 'target' y las demás variables: \\n{corr_target}\")\n",
    "\n",
    "print(f\"\\nLa característica más correlacionada con la variable objetivo 'target' es: '{max_indexcorrelacion}'\")\n",
    "print(f\"Valor de correlación: {max_corr_value}\")"
   ]
  }
 ],
 "metadata": {
  "kernelspec": {
   "display_name": "Python 3",
   "language": "python",
   "name": "python3"
  },
  "language_info": {
   "codemirror_mode": {
    "name": "ipython",
    "version": 3
   },
   "file_extension": ".py",
   "mimetype": "text/x-python",
   "name": "python",
   "nbconvert_exporter": "python",
   "pygments_lexer": "ipython3",
   "version": "3.12.6"
  }
 },
 "nbformat": 4,
 "nbformat_minor": 2
}
