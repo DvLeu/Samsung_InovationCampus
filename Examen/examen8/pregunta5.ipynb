{
 "cells": [
  {
   "cell_type": "markdown",
   "metadata": {},
   "source": [
    "## Aplicación de la función softmax\n",
    "\n",
    "Se solicita aplicar la función **softmax** a la salida de la red neuronal representada por el vector:\n",
    "\n",
    "\\[\n",
    "(0.4, 2.0, 0.001, 0.32)^T\n",
    "\\]"
   ]
  },
  {
   "cell_type": "code",
   "execution_count": 2,
   "metadata": {},
   "outputs": [],
   "source": [
    "import numpy as np "
   ]
  },
  {
   "cell_type": "code",
   "execution_count": 3,
   "metadata": {},
   "outputs": [],
   "source": [
    "#? Vector de salida de la red neuronal\n",
    "vectorSalida = np.array([0.4, 2.0, 0.001, 0.32])"
   ]
  },
  {
   "cell_type": "code",
   "execution_count": 4,
   "metadata": {},
   "outputs": [],
   "source": [
    "#? Aplicacion de la funcion softmax\n",
    "exponencial = np.exp(vectorSalida)\n",
    "valor_softmax = exponencial / np.sum(exponencial)"
   ]
  },
  {
   "cell_type": "code",
   "execution_count": 5,
   "metadata": {},
   "outputs": [
    {
     "name": "stdout",
     "output_type": "stream",
     "text": [
      "Vector original de salida : [4.0e-01 2.0e+00 1.0e-03 3.2e-01]\n",
      "Vector aplicando softmax : [0.13250053 0.65627943 0.08890663 0.12231341]\n"
     ]
    }
   ],
   "source": [
    "#? Mostrar resultado \n",
    "print(f\"Vector original de salida : {vectorSalida}\")\n",
    "print(f\"Vector aplicando softmax : {valor_softmax}\")\n",
    "\n"
   ]
  }
 ],
 "metadata": {
  "kernelspec": {
   "display_name": "env",
   "language": "python",
   "name": "python3"
  },
  "language_info": {
   "codemirror_mode": {
    "name": "ipython",
    "version": 3
   },
   "file_extension": ".py",
   "mimetype": "text/x-python",
   "name": "python",
   "nbconvert_exporter": "python",
   "pygments_lexer": "ipython3",
   "version": "3.12.6"
  }
 },
 "nbformat": 4,
 "nbformat_minor": 2
}
